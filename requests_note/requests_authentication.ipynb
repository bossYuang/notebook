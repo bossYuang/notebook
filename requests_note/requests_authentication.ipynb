{
 "cells": [
  {
   "cell_type": "markdown",
   "metadata": {},
   "source": [
    "## Basic Authentication"
   ]
  },
  {
   "cell_type": "code",
   "execution_count": 1,
   "metadata": {},
   "outputs": [
    {
     "data": {
      "text/plain": [
       "<Response [200]>"
      ]
     },
     "execution_count": 1,
     "metadata": {},
     "output_type": "execute_result"
    }
   ],
   "source": [
    "import requests\n",
    "from requests.auth import HTTPBasicAuth\n",
    "\n",
    "url = 'https://api.github.com/user'\n",
    "requests.get(url, auth=HTTPBasicAuth('user', 'pass'))"
   ]
  },
  {
   "cell_type": "code",
   "execution_count": 2,
   "metadata": {},
   "outputs": [
    {
     "data": {
      "text/plain": [
       "<Response [200]>"
      ]
     },
     "execution_count": 2,
     "metadata": {},
     "output_type": "execute_result"
    }
   ],
   "source": [
    "requests.get(url, auth=('user', 'pass'))"
   ]
  },
  {
   "cell_type": "markdown",
   "metadata": {},
   "source": [
    "## netrc Authentication"
   ]
  },
  {
   "cell_type": "markdown",
   "metadata": {},
   "source": [
    "If no authentication method is given with the `auth` argument, Requests will attempt to get the authentication credentials for the URL’s hostname from the user’s netrc file. The netrc file overrides raw HTTP authentication headers set with *headers=*.\n",
    "\n",
    "If credentials for the hostname are found, the request is sent with HTTP Basic Auth."
   ]
  },
  {
   "cell_type": "markdown",
   "metadata": {},
   "source": [
    "## Digest Authentication"
   ]
  },
  {
   "cell_type": "code",
   "execution_count": 3,
   "metadata": {},
   "outputs": [
    {
     "data": {
      "text/plain": [
       "<Response [200]>"
      ]
     },
     "execution_count": 3,
     "metadata": {},
     "output_type": "execute_result"
    }
   ],
   "source": [
    "import requests\n",
    "from requests.auth import HTTPDigestAuth\n",
    "\n",
    "url = 'https://httpbin.org/digest-auth/auth/user/pass'\n",
    "requests.get(url, auth=HTTPDigestAuth('user', 'pass'))"
   ]
  },
  {
   "cell_type": "markdown",
   "metadata": {},
   "source": [
    "## OAuth 1 Authentication"
   ]
  },
  {
   "cell_type": "markdown",
   "metadata": {},
   "source": [
    "The `requests-oauthlib` library allows Requests users to easily make OAuth 1 authenticated requests:\n",
    "```python\n",
    "import requests\n",
    "from requests_oauthlib import OAuth1\n",
    "\n",
    "url = 'https://api.twitter.com/1.1/account/verify_credentials.json'\n",
    "auth = OAuth1('YOUR_APP_KEY', 'YOUR_APP_SECRET', 'USER_OAUTH_TOKEN', 'USER_OAUTH_TOKEN_SECRET')\n",
    "requests.get(url, auth=auth)\n",
    "```"
   ]
  },
  {
   "cell_type": "markdown",
   "metadata": {},
   "source": [
    "For more information on how to [OAuth](https://oauth.net/) flow works, please see the official OAuth website. For examples and documentation on requests-oauthlib, please see the [requests_oauthlib](https://github.com/requests/requests-oauthlib) repository on GitHub"
   ]
  },
  {
   "cell_type": "markdown",
   "metadata": {},
   "source": [
    "## OAuth 2 and OpenID Connect Authentication"
   ]
  },
  {
   "cell_type": "markdown",
   "metadata": {},
   "source": [
    "The `requests-oauthlib` library also handles OAuth 2, the authentication mechanism underpinning OpenID Connect. See the [requests-oauthlib OAuth2 documentation](https://requests-oauthlib.readthedocs.io/en/latest/oauth2_workflow.html) for details of the various OAuth 2 credential management flows:\n",
    "\n",
    "- [Web Application Flow](https://requests-oauthlib.readthedocs.io/en/latest/oauth2_workflow.html#web-application-flow)\n",
    "- [Mobile Application Flow](https://requests-oauthlib.readthedocs.io/en/latest/oauth2_workflow.html#mobile-application-flow)\n",
    "- [Legacy Application Flow](https://requests-oauthlib.readthedocs.io/en/latest/oauth2_workflow.html#legacy-application-flow)\n",
    "- [Backend Application Flow](https://requests-oauthlib.readthedocs.io/en/latest/oauth2_workflow.html#backend-application-flow)"
   ]
  },
  {
   "cell_type": "markdown",
   "metadata": {},
   "source": [
    "## Other Authentication"
   ]
  },
  {
   "cell_type": "markdown",
   "metadata": {},
   "source": [
    "Members of the open-source community frequently write authentication handlers for more complicated or less commonly-used forms of authentication. Some of the best have been brought together under the [Requests organization](https://github.com/requests), including:\n",
    "\n",
    "- [Kerberos](https://github.com/requests/requests-kerberos)\n",
    "- [NTLM](https://github.com/requests/requests-ntlm)"
   ]
  },
  {
   "cell_type": "markdown",
   "metadata": {},
   "source": [
    "## New Forms of Authentication"
   ]
  },
  {
   "cell_type": "markdown",
   "metadata": {},
   "source": [
    "If you can’t find a good implementation of the form of authentication you want, you can implement it yourself. Requests makes it easy to add your own forms of authentication.\n",
    "\n",
    "To do so, subclass [**AuthBase**](http://docs.python-requests.org/en/master/api/#requests.auth.AuthBase) and implement the `__call__()` method:\n",
    "```python\n",
    "import requests\n",
    "\n",
    "class MyAuth(requests.auth.AuthBase):\n",
    "    \n",
    "    def __call__(self, r):\n",
    "        # Implement my authentication\n",
    "        return r\n",
    "\n",
    "url = 'https://httpbin.org/get'\n",
    "requests.get(url, auth=MyAuth())\n",
    "```"
   ]
  },
  {
   "cell_type": "markdown",
   "metadata": {},
   "source": [
    "When an authentication handler is attached to a request, it is called during request setup. The `__call__` method must therefore do whatever is required to make the authentication work. Some forms of authentication will additionally add **hooks** to provide further functionality."
   ]
  },
  {
   "cell_type": "markdown",
   "metadata": {},
   "source": [
    "Further examples can be found under the [Requests organization](https://github.com/requests) and in the `auth.py` file."
   ]
  }
 ],
 "metadata": {
  "kernelspec": {
   "display_name": "Python 3",
   "language": "python",
   "name": "python3"
  },
  "language_info": {
   "codemirror_mode": {
    "name": "ipython",
    "version": 3
   },
   "file_extension": ".py",
   "mimetype": "text/x-python",
   "name": "python",
   "nbconvert_exporter": "python",
   "pygments_lexer": "ipython3",
   "version": "3.6.4"
  }
 },
 "nbformat": 4,
 "nbformat_minor": 2
}
